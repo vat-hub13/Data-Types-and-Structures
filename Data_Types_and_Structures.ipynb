{
  "nbformat": 4,
  "nbformat_minor": 0,
  "metadata": {
    "colab": {
      "provenance": []
    },
    "kernelspec": {
      "name": "python3",
      "display_name": "Python 3"
    },
    "language_info": {
      "name": "python"
    }
  },
  "cells": [
    {
      "cell_type": "markdown",
      "source": [
        " 1. What are data structures, and why are they important?\n",
        "\n",
        "  - Data structures are organized ways of storing and managing data so that it can be used effectively. They define how data is arranged, accessed, modified, and manipulated within a program. Different data structures offer various methods to store and retrieve information, allowing programmers to choose the most efficient approach based on their specific needs.\n",
        "\n",
        "  Data Structures are Important in many ways:\n",
        "\n",
        "  **Efficiency**:\n",
        "  \n",
        "  They optimize operations like searching, sorting, and inserting data, reducing time and space complexity.\n",
        "\n",
        "  **Organized Representation**:\n",
        "\n",
        "  They provide a systematic way to represent and organize data, making it easier to manage.\n",
        "\n",
        "  **Scalability**:\n",
        "\n",
        " Appropriate use of data structures ensures programs scale well as data grows.\n",
        "\n",
        "  **Flexibility**:\n",
        "  \n",
        "  Enable developers to solve complex problems more easily, using structures tailored to specific tasks.\n",
        "\n",
        "  **Real-World Application**:\n",
        "\n",
        " Many algorithms depend on data structures for their implementation (e.g., databases, machine learning models, etc.).\n",
        "\n",
        "\n",
        "2. Explain the difference between mutable and immutable data types with examples.\n",
        "\n",
        " - **Mutable Data Types**\n",
        "\n",
        "   Mutable data types allow modification of their values after their creation. This means you can change elements, add items, or delete items without creating a new object.\n",
        "\n",
        " Examples of Mutable Data Types:\n",
        "\n",
        "  a. **Lists**:"
      ],
      "metadata": {
        "id": "2ZRBvtifQtf4"
      }
    },
    {
      "cell_type": "code",
      "source": [
        "my_list = [1, 2, 3]\n",
        "my_list[0] = 10  # Modify the first element\n",
        "print(my_list)  # Output: [10, 2, 3]\n"
      ],
      "metadata": {
        "id": "xY5vgA1aWLMd"
      },
      "execution_count": null,
      "outputs": []
    },
    {
      "cell_type": "markdown",
      "source": [
        "  b. **Dictionaries**:"
      ],
      "metadata": {
        "id": "FUCvbHMGTvnX"
      }
    },
    {
      "cell_type": "code",
      "source": [
        "my_dict = {\"name\": \"Alice\", \"age\": 25}\n",
        "my_dict[\"age\"] = 30  # Update the value for the key \"age\"\n",
        "print(my_dict)  # Output: {\"name\": \"Alice\", \"age\": 30}\n"
      ],
      "metadata": {
        "id": "55P2Op3aWUDT"
      },
      "execution_count": null,
      "outputs": []
    },
    {
      "cell_type": "markdown",
      "source": [
        "  c. **Sets**:"
      ],
      "metadata": {
        "id": "bWGvp8tSWWJZ"
      }
    },
    {
      "cell_type": "code",
      "source": [
        "my_set = {1, 2, 3}\n",
        "my_set.add(4)  # Add an element\n",
        "print(my_set)  # Output: {1, 2, 3, 4}\n"
      ],
      "metadata": {
        "id": "XpPDjZmLWZSd"
      },
      "execution_count": null,
      "outputs": []
    },
    {
      "cell_type": "markdown",
      "source": [
        " **Immutable Data Types**\n",
        "\n",
        "   Immutable data types do not allow modification of their values after they are created. Any operation that seems to modify the data actually creates a new object.\n",
        "\n",
        " Examples of Immutable Data Types:\n",
        "\n",
        "   a. **Strings**:"
      ],
      "metadata": {
        "id": "Q_I2pduZWaSA"
      }
    },
    {
      "cell_type": "code",
      "source": [
        "my_string = \"Hello\"\n",
        "new_string = my_string.replace(\"H\", \"J\")  # Creates a new string\n",
        "print(my_string)  # Output: \"Hello\" (Original remains unchanged)\n",
        "print(new_string)  # Output: \"Jello\"\n"
      ],
      "metadata": {
        "id": "L_9teUz_WnuY"
      },
      "execution_count": null,
      "outputs": []
    },
    {
      "cell_type": "markdown",
      "source": [
        "  b. **Tuples**:\n",
        "  "
      ],
      "metadata": {
        "id": "KaRMtFQBWqEG"
      }
    },
    {
      "cell_type": "code",
      "source": [
        "my_tuple = (1, 2, 3)\n",
        "# Tuples cannot be modified; attempting to change an element results in an error\n"
      ],
      "metadata": {
        "id": "4GEJy-2sWuc0"
      },
      "execution_count": null,
      "outputs": []
    },
    {
      "cell_type": "markdown",
      "source": [
        "  c. **Integers**\n",
        "  "
      ],
      "metadata": {
        "id": "nA-e1AI0Ww1c"
      }
    },
    {
      "cell_type": "code",
      "source": [
        "x = 10\n",
        "y = x + 5  # Creates a new integer object for y\n",
        "print(x)  # Output: 10\n",
        "print(y)  # Output: 15\n"
      ],
      "metadata": {
        "id": "KhSYPRGPW0OY"
      },
      "execution_count": null,
      "outputs": []
    },
    {
      "cell_type": "markdown",
      "source": [
        " 3.  What are the main differences between lists and tuples in Python?\n",
        "\n",
        "  - The main differences between Lists and Tuples in Python are:\n",
        "  \n",
        "  a. Mutability\n",
        "\n",
        "  Lists: Mutable; their elements can be changed after creation (e.g., adding, removing, or modifying items).\n",
        "\n",
        "  Tuples: Immutable; their elements cannot be changed after creation.\n",
        "\n",
        "  b. Syntax\n",
        "\n",
        "  Lists: Defined using square brackets[].\n",
        "   \n",
        "  Tuples: Defined using parentheses ().\n",
        "\n",
        "  c. Performance\n",
        "   \n",
        "   Lists: Slightly slower compared to tuples because of their mutable nature, which involves additional overhead.\n",
        "\n",
        "   Tuples: Faster than lists, especially in scenarios where immutability is needed.\n",
        "\n",
        "   d. Use Cases\n",
        "   \n",
        "  Lists: Best for scenarios where the data needs to be modified frequently. Example: Dynamic collections like to-do lists, shopping carts, etc.\n",
        "\n",
        " Tuples: Ideal for scenarios where data integrity and immutability are crucial. Example: Fixed datasets like coordinates (x, y, z) or configuration settings.\n",
        "\n",
        "   e. Memory Usage\n",
        "\n",
        "   Lists: Consume more memory due to their dynamic nature and extra overhead for resizing.\n",
        "\n",
        "  Tuples: Consume less memory since they are static and immutable.\n",
        "\n",
        "  f. Functions\n",
        "   \n",
        "  Lists: Provide more built-in methods (e.g., .append(), .pop(), .remove()).\n",
        "\n",
        "  Tuples: Limited built-in methods, primarily for counting and finding items (e.g., .count() and .index()).\n",
        "\n",
        "  g. Nesting\n",
        "\n",
        "  Both lists and tuples can store other data structures (e.g., lists, tuples, dictionaries), but their mutability affects how they behave.\n",
        "\n",
        " Lists can contain mutable and immutable elements.\n",
        "\n",
        " Tuples can contain mutable elements like lists, but the tuple itself remains immutable.\n",
        "\n",
        " 4.  Describe how dictionaries store data.\n",
        "\n",
        "  - Dictionaries in Python are unordered collections that store data as key-value pairs. They provide an efficient way to organize and access data using keys rather than relying on numerical indexes, as in lists or tuples.\n",
        "\n",
        "  5.  Why might you use a set instead of a list in Python.\n",
        "\n",
        "  - You might use a set instead of a list in Python when you need to store a collection of unique elements and don't require duplicates.\n",
        "\n",
        "  6.  What is a string in Python, and how is it different from a list.\n",
        "\n",
        "  - A string in Python is a sequence of characters enclosed within single quotes ('), double quotes (\"), or triple quotes (''' or \"\"\"). Strings are used to represent text-based data such as words, sentences, or even special characters.\n",
        "\n",
        "  7.  How do tuples ensure data integrity in Python?\n",
        "   \n",
        "   -  Tuples ensure data integrity in Python through their immutability. Once a tuple is created, its elements cannot be modified, added, or deleted. This characteristic makes tuples ideal for scenarios where data must remain constant and secure throughout the program's execution.\n",
        "\n",
        "   8. What is a hash table, and how does it relate to dictionaries in Python?\n",
        "\n",
        "   - A hash table is a data structure that stores key-value pairs and uses a hash function to compute the index for storing and retrieving values efficiently. This mechanism makes hash tables ideal for operations like lookups, insertions, and deletions, typically operating in O(1) time complexity.\n",
        "\n",
        "   9.  Can lists contain different data types in Python?\n",
        "\n",
        "   - Yes, absolutely! In Python, lists are versatile and can store elements of different data types within the same list. This makes them incredibly flexible for a wide range of use cases. A single list can hold integers, strings, floats, other lists, dictionaries, or even custom objects.\n",
        "\n",
        "   10.  Explain why strings are immutable in Python.\n",
        "\n",
        "   - Strings are immutable in Python, meaning once a string is created, its contents cannot be changed. This design choice is intentional and brings several benefits to Python's functionality and performance.\n",
        "\n",
        "   11.  What advantages do dictionaries offer over lists for certain tasks?\n",
        "\n",
        "   - Dictionaries provide key advantages over lists in Python for tasks involving associations between data or when efficiency is critical.\n",
        "\n",
        "  a. Key-Value Pair Mapping\n",
        "\n",
        "  Dictionaries allow you to associate values with unique keys, making data retrieval straightforward. In contrast, lists rely on indices for accessing elements, which may be less intuitive for certain tasks.\n",
        "\n",
        "  b. Faster Lookups\n",
        "\n",
        "  Dictionaries use hash tables for storage, allowing constant-time lookups (O(1)), while lists require searching through all elements (O(n)).\n",
        "\n",
        "  c. Handling Unordered Data\n",
        "\n",
        "  Dictionaries are unordered collections, which is perfect when the order of elements doesn't matter and the focus is on associations between data.\n",
        "\n",
        "  d. Flexibility for Complex Data\n",
        "\n",
        "   Dictionaries can store more complex relationships between data, such as hierarchies or attributes, while lists are limited to simple sequences.\n",
        "\n",
        "   e. Avoiding Duplication\n",
        "\n",
        "  Keys in dictionaries are unique, making dictionaries ideal for cases where duplicates should be prevented.\n",
        "\n",
        "  12.  Describe a scenario where using a tuple would be preferable over a list.\n",
        "\n",
        "  - Using a tuple is preferable over a list when you need to store data that should remain constant and unchangeable throughout the program.\n",
        "\n",
        "  "
      ],
      "metadata": {
        "id": "8J28VwnQW1lW"
      }
    },
    {
      "cell_type": "code",
      "source": [
        "def get_user_info():\n",
        "    return (\"Alice\", 25, \"Engineer\")  # Name, age, and profession\n",
        "\n",
        "user = get_user_info()\n",
        "print(user)  # Output: ('Alice', 25, 'Engineer')\n"
      ],
      "metadata": {
        "id": "X0zB_1RkbZPG"
      },
      "execution_count": null,
      "outputs": []
    },
    {
      "cell_type": "markdown",
      "source": [
        "  13.  How do sets handle duplicate values in Python?\n",
        "\n",
        "  - In Python, sets are specifically designed to store unique elements, meaning they automatically eliminate duplicate values. When you add items to a set, any duplicates are discarded, ensuring that the set only contains distinct elements.\n",
        "\n",
        "  14.  How does the “in” keyword work differently for lists and dictionaries?\n",
        "\n",
        "  - The in keyword in Python is used to check for the presence of an element, but it works differently depending on whether you're using it with a list or a dictionary.\n",
        "\n",
        "  15.  Can you modify the elements of a tuple? Explain why or why not.\n",
        "\n",
        "  - No, you cannot modify the elements of a tuple in Python because tuples are immutable. Once a tuple is created, its elements cannot be changed, added, or removed. This behavior ensures that tuples are consistent and reliable, as their contents remain constant throughout their lifetime.\n",
        "\n",
        "  16.  What is a nested dictionary, and give an example of its use case?\n",
        "\n",
        "  - A nested dictionary is a dictionary within another dictionary. It allows you to organize and represent hierarchical or complex relationships between data by nesting key-value pairs. Nested dictionaries are incredibly useful for storing structured data in a readable and accessible format.\n",
        "\n",
        "  17.  Describe the time complexity of accessing elements in a dictionary.\n",
        "\n",
        "  - The time complexity of accessing elements in a Python dictionary is O(1) on average. This efficiency is due to the use of hash tables as the underlying data structure for dictionaries.\n",
        "\n",
        "  18.  In what situations are lists preferred over dictionaries.\n",
        "\n",
        "  - Lists are preferred over dictionaries in Python when the data or the task aligns better with the characteristics of lists.\n",
        "\n",
        "  19.  Why are dictionaries considered unordered, and how does that affect data retrieval.\n",
        "\n",
        "  - Dictionaries in Python are considered unordered because they are based on a hash table structure, where elements (key-value pairs) are stored in memory based on their hash values rather than their insertion order. This hash-based arrangement means there is no inherent sequence to the stored elements.\n",
        "\n",
        "  20.  Explain the difference between a list and a dictionary in terms of data retrieval.\n",
        "\n",
        "  - Lists and dictionaries are both fundamental data structures in Python, but they handle data retrieval in different ways due to their design. Here’s a breakdown of how they differ:\n",
        "\n",
        "  Data Retrieval by Index vs. Key\n",
        "\n",
        "  Lists: Data is retrieved using integer indices that represent the position of elements in the list. These indices start from 0.\n",
        "\n",
        "\n",
        "\n",
        "\n",
        "\n"
      ],
      "metadata": {
        "id": "yoFR4kt9bbKK"
      }
    },
    {
      "cell_type": "code",
      "source": [
        "my_list = [\"apple\", \"banana\", \"cherry\"]\n",
        "print(my_list[1])  # Output: banana\n"
      ],
      "metadata": {
        "id": "BQ7oLCjPdHTI"
      },
      "execution_count": null,
      "outputs": []
    },
    {
      "cell_type": "markdown",
      "source": [
        " Dictionaries:\n",
        "\n",
        "  Data is retrieved using keys, which are unique identifiers associated with values. Keys can be strings, numbers, or tuples."
      ],
      "metadata": {
        "id": "Zm00h1RkdJiL"
      }
    },
    {
      "cell_type": "code",
      "source": [
        "my_dict = {\"name\": \"Alice\", \"age\": 25}\n",
        "print(my_dict[\"name\"])  # Output: Alice\n"
      ],
      "metadata": {
        "id": "JpTYLq-NdMHi"
      },
      "execution_count": null,
      "outputs": []
    },
    {
      "cell_type": "markdown",
      "source": [
        "**Practical Questions**\n",
        "\n",
        "1.  Write a code to create a string with your name and print it.\n"
      ],
      "metadata": {
        "id": "CZJ_lbYbdRw2"
      }
    },
    {
      "cell_type": "code",
      "source": [
        "# Create a string with a name\n",
        "my_name = \"Vatsal\"\n",
        "\n",
        "# Print the string\n",
        "print(my_name)\n"
      ],
      "metadata": {
        "colab": {
          "base_uri": "https://localhost:8080/"
        },
        "collapsed": true,
        "id": "XL3vDIVSdrVe",
        "outputId": "24bbc063-186c-4d9d-97d6-096e53770d8d"
      },
      "execution_count": 1,
      "outputs": [
        {
          "output_type": "stream",
          "name": "stdout",
          "text": [
            "Vatsal\n"
          ]
        }
      ]
    },
    {
      "cell_type": "markdown",
      "source": [
        "2.  Write a code to find the length of the string \"Hello World\".\n",
        "\n"
      ],
      "metadata": {
        "id": "D3Sdy5V7d_Ic"
      }
    },
    {
      "cell_type": "code",
      "source": [
        "# Define the string\n",
        "my_string = \"Hello World\"\n",
        "\n",
        "# Find and print the length of the string\n",
        "string_length = len(my_string)\n",
        "print(\"Length of the string:\", string_length)\n"
      ],
      "metadata": {
        "id": "kGDRkorNeGb6"
      },
      "execution_count": null,
      "outputs": []
    },
    {
      "cell_type": "markdown",
      "source": [
        " 3. Write a code to slice the first 3 characters from the string \"Python Programming\".\n"
      ],
      "metadata": {
        "id": "R0LF1i5leJ6K"
      }
    },
    {
      "cell_type": "code",
      "source": [
        "# Define the string\n",
        "my_string = \"Python Programming\"\n",
        "\n",
        "# Slice the first 3 characters\n",
        "first_three_chars = my_string[:3]\n",
        "\n",
        "# Print the sliced result\n",
        "print(\"First 3 characters:\", first_three_chars)\n"
      ],
      "metadata": {
        "id": "JZM8aHLyeMMf"
      },
      "execution_count": null,
      "outputs": []
    },
    {
      "cell_type": "markdown",
      "source": [
        "4.  Write a code to convert the string \"hello\" to uppercase.\n"
      ],
      "metadata": {
        "id": "R6ijiHeXeS_r"
      }
    },
    {
      "cell_type": "code",
      "source": [
        "# Define the string\n",
        "my_string = \"hello\"\n",
        "\n",
        "# Convert the string to uppercase\n",
        "uppercase_string = my_string.upper()\n",
        "\n",
        "# Print the result\n",
        "print(\"Uppercase version:\", uppercase_string)\n"
      ],
      "metadata": {
        "id": "exfYPLdMeX8g"
      },
      "execution_count": null,
      "outputs": []
    },
    {
      "cell_type": "markdown",
      "source": [
        "5.  Write a code to replace the word \"apple\" with \"orange\" in the string \"I like apple\".\n"
      ],
      "metadata": {
        "id": "5Sv7RvQlecI-"
      }
    },
    {
      "cell_type": "code",
      "source": [
        "# Define the string\n",
        "my_string = \"I like apple\"\n",
        "\n",
        "# Replace \"apple\" with \"orange\"\n",
        "new_string = my_string.replace(\"apple\", \"orange\")\n",
        "\n",
        "# Print the result\n",
        "print(\"Updated string:\", new_string)\n"
      ],
      "metadata": {
        "id": "gAs4dCDrestF"
      },
      "execution_count": null,
      "outputs": []
    },
    {
      "cell_type": "markdown",
      "source": [
        "6.  Write a code to create a list with numbers 1 to 5 and print it.\n"
      ],
      "metadata": {
        "id": "elARJATOeud0"
      }
    },
    {
      "cell_type": "code",
      "source": [
        "# Create a list with numbers 1 to 5\n",
        "my_list = [1, 2, 3, 4, 5]\n",
        "\n",
        "# Print the list\n",
        "print(\"List of numbers:\", my_list)\n"
      ],
      "metadata": {
        "id": "tMS11bOae0R9"
      },
      "execution_count": null,
      "outputs": []
    },
    {
      "cell_type": "markdown",
      "source": [
        "7.  Write a code to append the number 10 to the list [1, 2, 3, 4].\n"
      ],
      "metadata": {
        "id": "uYeaXQ9ae3pB"
      }
    },
    {
      "cell_type": "code",
      "source": [
        "# Define the list\n",
        "my_list = [1, 2, 3, 4]\n",
        "\n",
        "# Append the number 10\n",
        "my_list.append(10)\n",
        "\n",
        "# Print the updated list\n",
        "print(\"Updated list:\", my_list)\n"
      ],
      "metadata": {
        "id": "82AmbCKae9PY"
      },
      "execution_count": null,
      "outputs": []
    },
    {
      "cell_type": "markdown",
      "source": [
        "8.  Write a code to remove the number 3 from the list [1, 2, 3, 4, 5].\n",
        "\n"
      ],
      "metadata": {
        "id": "RrPJhV73fBAX"
      }
    },
    {
      "cell_type": "code",
      "source": [
        "# Define the list\n",
        "my_list = [1, 2, 3, 4, 5]\n",
        "\n",
        "# Remove the number 3\n",
        "my_list.remove(3)\n",
        "\n",
        "# Print the updated list\n",
        "print(\"Updated list:\", my_list)\n"
      ],
      "metadata": {
        "id": "rH3Ju7xdfSSQ"
      },
      "execution_count": null,
      "outputs": []
    },
    {
      "cell_type": "markdown",
      "source": [
        "9.  Write a code to access the second element in the list ['a', 'b', 'c', 'd'].\n"
      ],
      "metadata": {
        "id": "s1zlCiFDfTXx"
      }
    },
    {
      "cell_type": "code",
      "source": [
        "# Define the list\n",
        "my_list = ['a', 'b', 'c', 'd']\n",
        "\n",
        "# Access the second element (index 1)\n",
        "second_element = my_list[1]\n",
        "\n",
        "# Print the result\n",
        "print(\"Second element:\", second_element)\n"
      ],
      "metadata": {
        "id": "LyNoogY0faQL"
      },
      "execution_count": null,
      "outputs": []
    },
    {
      "cell_type": "markdown",
      "source": [
        "10.  Write a code to reverse the list [10, 20, 30, 40, 50].\n"
      ],
      "metadata": {
        "id": "GJX10Jddfcdu"
      }
    },
    {
      "cell_type": "code",
      "source": [
        "# Define the list\n",
        "my_list = [10, 20, 30, 40, 50]\n",
        "\n",
        "# Reverse the list\n",
        "reversed_list = my_list[::-1]\n",
        "\n",
        "# Print the result\n",
        "print(\"Reversed list:\", reversed_list)\n"
      ],
      "metadata": {
        "id": "hQnjug2AfuWh"
      },
      "execution_count": null,
      "outputs": []
    },
    {
      "cell_type": "markdown",
      "source": [
        "11. Write a code to create a tuple with the elements 100, 200, 300 and print it.\n"
      ],
      "metadata": {
        "id": "Kl-EFo5zfvJ8"
      }
    },
    {
      "cell_type": "code",
      "source": [
        "# Create a tuple\n",
        "my_tuple = (100, 200, 300)\n",
        "\n",
        "# Print the tuple\n",
        "print(\"Tuple:\", my_tuple)\n"
      ],
      "metadata": {
        "id": "TgHV2aWNf4ur"
      },
      "execution_count": null,
      "outputs": []
    },
    {
      "cell_type": "markdown",
      "source": [
        "12. Write a code to access the second-to-last element of the tuple ('red', 'green', 'blue', 'yellow').\n"
      ],
      "metadata": {
        "id": "Uhuj5Byxf9pp"
      }
    },
    {
      "cell_type": "code",
      "source": [
        "# Define the tuple\n",
        "my_tuple = ('red', 'green', 'blue', 'yellow')\n",
        "\n",
        "# Access the second-to-last element\n",
        "second_to_last = my_tuple[-2]\n",
        "\n",
        "# Print the result\n",
        "print(\"Second-to-last element:\", second_to_last)\n"
      ],
      "metadata": {
        "id": "3ntmCgPngDvH"
      },
      "execution_count": null,
      "outputs": []
    },
    {
      "cell_type": "markdown",
      "source": [
        " 13. Write a code to find the minimum number in the tuple (10, 20, 5, 15).\n"
      ],
      "metadata": {
        "id": "4gDIP3MegIRu"
      }
    },
    {
      "cell_type": "code",
      "source": [
        "# Define the tuple\n",
        "my_tuple = (10, 20, 5, 15)\n",
        "\n",
        "# Find the minimum number\n",
        "min_number = min(my_tuple)\n",
        "\n",
        "# Print the result\n",
        "print(\"Minimum number:\", min_number)\n"
      ],
      "metadata": {
        "id": "G80IEmOYgUqk"
      },
      "execution_count": null,
      "outputs": []
    },
    {
      "cell_type": "markdown",
      "source": [
        " 14. Write a code to find the index of the element \"cat\" in the tuple ('dog', 'cat', 'rabbit').\n"
      ],
      "metadata": {
        "id": "R3g6KMFCgWIe"
      }
    },
    {
      "cell_type": "code",
      "source": [
        "# Define the tuple\n",
        "my_tuple = ('dog', 'cat', 'rabbit')\n",
        "\n",
        "# Find the index of \"cat\"\n",
        "cat_index = my_tuple.index('cat')\n",
        "\n",
        "# Print the result\n",
        "print(\"Index of 'cat':\", cat_index)\n"
      ],
      "metadata": {
        "id": "Ws8_XKMLgcHd"
      },
      "execution_count": null,
      "outputs": []
    },
    {
      "cell_type": "markdown",
      "source": [
        " 15. Write a code to create a tuple containing three different fruits and check if \"kiwi\" is in it.\n"
      ],
      "metadata": {
        "id": "Jwrqp4WMghZK"
      }
    },
    {
      "cell_type": "code",
      "source": [
        "# Create a tuple with fruits\n",
        "fruit_tuple = (\"apple\", \"banana\", \"orange\")\n",
        "\n",
        "# Check if \"kiwi\" is in the tuple\n",
        "is_kiwi_present = \"kiwi\" in fruit_tuple\n",
        "\n",
        "# Print the result\n",
        "print(\"Is 'kiwi' in the tuple?\", is_kiwi_present)\n"
      ],
      "metadata": {
        "id": "zNf57Nq7gl4X"
      },
      "execution_count": null,
      "outputs": []
    },
    {
      "cell_type": "markdown",
      "source": [
        " 16. Write a code to create a set with the elements 'a', 'b', 'c' and print it.\n"
      ],
      "metadata": {
        "id": "3EQQX7EvgmxF"
      }
    },
    {
      "cell_type": "code",
      "source": [
        "# Create a set\n",
        "my_set = {'a', 'b', 'c'}\n",
        "\n",
        "# Print the set\n",
        "print(\"Set:\", my_set)\n"
      ],
      "metadata": {
        "id": "xdiE9fddgrse"
      },
      "execution_count": null,
      "outputs": []
    },
    {
      "cell_type": "markdown",
      "source": [
        " 17. Write a code to clear all elements from the set {1, 2, 3, 4, 5}.\n"
      ],
      "metadata": {
        "id": "SUmsZlRfgwD5"
      }
    },
    {
      "cell_type": "code",
      "source": [
        "# Define the set\n",
        "my_set = {1, 2, 3, 4, 5}\n",
        "\n",
        "# Clear all elements from the set\n",
        "my_set.clear()\n",
        "\n",
        "# Print the result\n",
        "print(\"Cleared set:\", my_set)\n"
      ],
      "metadata": {
        "id": "jXiHRp7jgyL_"
      },
      "execution_count": null,
      "outputs": []
    },
    {
      "cell_type": "markdown",
      "source": [
        " 18. Write a code to remove the element 4 from the set {1, 2, 3, 4}.\n"
      ],
      "metadata": {
        "id": "Fjq3yQ0-gzUY"
      }
    },
    {
      "cell_type": "code",
      "source": [
        "# Define the set\n",
        "my_set = {1, 2, 3, 4, 5}\n",
        "\n",
        "# Clear all elements from the set\n",
        "my_set.clear()\n",
        "\n",
        "# Print the result\n",
        "print(\"Cleared set:\", my_set)\n"
      ],
      "metadata": {
        "id": "pWXcNCKGg42e"
      },
      "execution_count": null,
      "outputs": []
    },
    {
      "cell_type": "markdown",
      "source": [
        " 19. Write a code to find the union of two sets {1, 2, 3} and {3, 4, 5}.\n"
      ],
      "metadata": {
        "id": "uGvqheSmg5pm"
      }
    },
    {
      "cell_type": "code",
      "source": [
        "# Define the sets\n",
        "set1 = {1, 2, 3}\n",
        "set2 = {3, 4, 5}\n",
        "\n",
        "# Find the union of the sets\n",
        "union_set = set1.union(set2)\n",
        "\n",
        "# Print the result\n",
        "print(\"Union of the sets:\", union_set)\n"
      ],
      "metadata": {
        "id": "hJdGp8wohDmk"
      },
      "execution_count": null,
      "outputs": []
    },
    {
      "cell_type": "markdown",
      "source": [
        " 20. Write a code to find the intersection of two sets {1, 2, 3} and {2, 3, 4}.\n"
      ],
      "metadata": {
        "id": "2Fi2y3GJhGQI"
      }
    },
    {
      "cell_type": "code",
      "source": [
        "# Define the sets\n",
        "set1 = {1, 2, 3}\n",
        "set2 = {2, 3, 4}\n",
        "\n",
        "# Find the intersection of the sets\n",
        "intersection_set = set1.intersection(set2)\n",
        "\n",
        "# Print the result\n",
        "print(\"Intersection of the sets:\", intersection_set)\n"
      ],
      "metadata": {
        "id": "lHkbHQDJhJ9A"
      },
      "execution_count": null,
      "outputs": []
    },
    {
      "cell_type": "markdown",
      "source": [
        " 21. Write a code to create a dictionary with the keys \"name\", \"age\", and \"city\", and print it.\n"
      ],
      "metadata": {
        "id": "y96TFyY2hOp4"
      }
    },
    {
      "cell_type": "code",
      "source": [
        "# Create a dictionary\n",
        "my_dict = {\n",
        "    \"name\": \"Vatsal\",\n",
        "    \"age\": 25,\n",
        "    \"city\": \"Jaipur\"\n",
        "}\n",
        "\n",
        "# Print the dictionary\n",
        "print(\"Dictionary:\", my_dict)\n"
      ],
      "metadata": {
        "id": "T3GWWZrahR7i"
      },
      "execution_count": null,
      "outputs": []
    },
    {
      "cell_type": "markdown",
      "source": [
        " 22. Write a code to add a new key-value pair \"country\": \"USA\" to the dictionary {'name': 'John', 'age': 25}.\n"
      ],
      "metadata": {
        "id": "t4Wh8genhjjC"
      }
    },
    {
      "cell_type": "code",
      "source": [
        "# Define the dictionary\n",
        "my_dict = {'name': 'John', 'age': 25}\n",
        "\n",
        "# Add the new key-value pair\n",
        "my_dict['country'] = 'USA'\n",
        "\n",
        "# Print the updated dictionary\n",
        "print(\"Updated dictionary:\", my_dict)\n"
      ],
      "metadata": {
        "id": "pbBnh2IUh9yz"
      },
      "execution_count": null,
      "outputs": []
    },
    {
      "cell_type": "markdown",
      "source": [
        " 23. Write a code to access the value associated with the key \"name\" in the dictionary {'name': 'Alice', 'age': 30}.\n"
      ],
      "metadata": {
        "id": "64GHHQpFiBYX"
      }
    },
    {
      "cell_type": "code",
      "source": [
        "# Define the dictionary\n",
        "my_dict = {'name': 'Alice', 'age': 30}\n",
        "\n",
        "# Access the value associated with the key \"name\"\n",
        "name_value = my_dict['name']\n",
        "\n",
        "# Print the result\n",
        "print(\"Value associated with 'name':\", name_value)\n"
      ],
      "metadata": {
        "id": "gUMCyx--iLNq"
      },
      "execution_count": null,
      "outputs": []
    },
    {
      "cell_type": "markdown",
      "source": [
        " 24. Write a code to remove the key \"age\" from the dictionary {'name': 'Bob', 'age': 22, 'city': 'New York'}.\n"
      ],
      "metadata": {
        "id": "sy_d6nRfiSrJ"
      }
    },
    {
      "cell_type": "code",
      "source": [
        "# Define the dictionary\n",
        "my_dict = {'name': 'Bob', 'age': 22, 'city': 'New York'}\n",
        "\n",
        "# Remove the key \"age\"\n",
        "my_dict.pop('age')\n",
        "\n",
        "# Print the updated dictionary\n",
        "print(\"Updated dictionary:\", my_dict)\n"
      ],
      "metadata": {
        "id": "mk2P6RgViT-9"
      },
      "execution_count": null,
      "outputs": []
    },
    {
      "cell_type": "markdown",
      "source": [
        " 25. Write a code to check if the key \"city\" exists in the dictionary {'name': 'Alice', 'city': 'Paris'}.\n"
      ],
      "metadata": {
        "id": "dmcEAJWyik5x"
      }
    },
    {
      "cell_type": "code",
      "source": [
        "# Define the dictionary\n",
        "my_dict = {'name': 'Alice', 'city': 'Paris'}\n",
        "\n",
        "# Check if the key \"city\" exists\n",
        "is_city_present = \"city\" in my_dict\n",
        "\n",
        "# Print the result\n",
        "print(\"Does the key 'city' exist?\", is_city_present)\n"
      ],
      "metadata": {
        "id": "YW3M_Ti4ip-x"
      },
      "execution_count": null,
      "outputs": []
    },
    {
      "cell_type": "markdown",
      "source": [
        " 26. Write a code to create a list, a tuple, and a dictionary, and print them all.\n"
      ],
      "metadata": {
        "id": "qNdW1uMtiuZW"
      }
    },
    {
      "cell_type": "code",
      "source": [
        "# Create a list\n",
        "my_list = [1, 2, 3, 4, 5]\n",
        "\n",
        "# Create a tuple\n",
        "my_tuple = ('a', 'b', 'c')\n",
        "\n",
        "# Create a dictionary\n",
        "my_dict = {'name': 'John', 'age': 30, 'city': 'London'}\n",
        "\n",
        "# Print the list, tuple, and dictionary\n",
        "print(\"List:\", my_list)\n",
        "print(\"Tuple:\", my_tuple)\n",
        "print(\"Dictionary:\", my_dict)\n"
      ],
      "metadata": {
        "id": "nhgvW0jbivWe"
      },
      "execution_count": null,
      "outputs": []
    },
    {
      "cell_type": "markdown",
      "source": [
        " 27. Write a code to create a list of 5 random numbers between 1 and 100, sort it in ascending order, and print the result.(replaced)"
      ],
      "metadata": {
        "id": "XPTbn4Wpi1Fy"
      }
    },
    {
      "cell_type": "code",
      "source": [
        "import random\n",
        "\n",
        "# Generate a list of 5 random numbers between 1 and 100\n",
        "random_numbers = random.sample(range(1, 101), 5)\n",
        "\n",
        "# Sort the list in ascending order\n",
        "random_numbers.sort()\n",
        "\n",
        "# Print the sorted list\n",
        "print(\"Sorted list of random numbers:\", random_numbers)\n"
      ],
      "metadata": {
        "id": "3mr1RnF2jILi"
      },
      "execution_count": null,
      "outputs": []
    },
    {
      "cell_type": "markdown",
      "source": [
        "28. Write a code to create a list with strings and print the element at the third index.\n"
      ],
      "metadata": {
        "id": "nVa8rB7fjJwj"
      }
    },
    {
      "cell_type": "code",
      "source": [
        "# Create a list with strings\n",
        "my_list = [\"apple\", \"banana\", \"cherry\", \"date\", \"elderberry\"]\n",
        "\n",
        "# Access the element at the third index\n",
        "third_index_element = my_list[3]\n",
        "\n",
        "# Print the result\n",
        "print(\"Element at the third index:\", third_index_element)\n"
      ],
      "metadata": {
        "id": "9LbqNba9jUBw"
      },
      "execution_count": null,
      "outputs": []
    },
    {
      "cell_type": "markdown",
      "source": [
        " 29. Write a code to combine two dictionaries into one and print the result.\n"
      ],
      "metadata": {
        "id": "tIGyzOmDjXLw"
      }
    },
    {
      "cell_type": "code",
      "source": [
        "# Define the two dictionaries\n",
        "dict1 = {'a': 1, 'b': 2}\n",
        "dict2 = {'c': 3, 'd': 4}\n",
        "\n",
        "# Combine the dictionaries\n",
        "combined_dict = {**dict1, **dict2}\n",
        "\n",
        "# Print the combined dictionary\n",
        "print(\"Combined dictionary:\", combined_dict)\n"
      ],
      "metadata": {
        "id": "26tAVKd_jnup"
      },
      "execution_count": null,
      "outputs": []
    },
    {
      "cell_type": "markdown",
      "source": [
        " 30. Write a code to convert a list of strings into a set.\n"
      ],
      "metadata": {
        "id": "B3fLpUVfjpvB"
      }
    },
    {
      "cell_type": "code",
      "source": [
        "# Define a list of strings\n",
        "my_list = [\"apple\", \"banana\", \"cherry\", \"apple\"]\n",
        "\n",
        "# Convert the list into a set\n",
        "my_set = set(my_list)\n",
        "\n",
        "# Print the resulting set\n",
        "print(\"Set:\", my_set)\n"
      ],
      "metadata": {
        "id": "6cspIunljw1T"
      },
      "execution_count": null,
      "outputs": []
    }
  ]
}